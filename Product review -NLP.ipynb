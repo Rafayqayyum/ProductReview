{
 "cells": [
  {
   "cell_type": "markdown",
   "id": "e0a52a01",
   "metadata": {},
   "source": [
    " # Product review - NLP\n",
    " \n",
    "In this project I will use data from yelp, amazon and imdb for the product review"
   ]
  },
  {
   "cell_type": "code",
   "execution_count": 3,
   "id": "185246d1",
   "metadata": {},
   "outputs": [],
   "source": [
    "import numpy as np\n",
    "import pandas as pd\n",
    "import nltk.corpus\n",
    "import string\n",
    "from nltk.corpus import stopwords\n",
    "from sklearn.pipeline import Pipeline\n",
    "from sklearn.naive_bayes import MultinomialNB\n",
    "import matplotlib.pyplot as plt\n",
    "%matplotlib inline\n",
    "import seaborn as sns"
   ]
  },
  {
   "cell_type": "markdown",
   "id": "2ca7b806",
   "metadata": {},
   "source": [
    "## Reading data"
   ]
  },
  {
   "cell_type": "code",
   "execution_count": 4,
   "id": "d5938686",
   "metadata": {},
   "outputs": [],
   "source": [
    "df0=pd.read_csv('yelp.txt',delimiter='\\t',names =['text','review'])"
   ]
  },
  {
   "cell_type": "code",
   "execution_count": 5,
   "id": "85b1b210",
   "metadata": {},
   "outputs": [],
   "source": [
    "df1=pd.read_csv('amazon.txt',delimiter='\\t',names =['text','review'])"
   ]
  },
  {
   "cell_type": "code",
   "execution_count": 6,
   "id": "f40b35a5",
   "metadata": {},
   "outputs": [],
   "source": [
    "df2=pd.read_csv('imdb.txt',delimiter='\\t',names =['text','review'])"
   ]
  },
  {
   "cell_type": "code",
   "execution_count": 7,
   "id": "f67d65d1",
   "metadata": {},
   "outputs": [],
   "source": [
    "df=pd.concat([df1,df2,df0],axis=0)"
   ]
  },
  {
   "cell_type": "code",
   "execution_count": 8,
   "id": "51d8aac5",
   "metadata": {},
   "outputs": [
    {
     "name": "stdout",
     "output_type": "stream",
     "text": [
      "<class 'pandas.core.frame.DataFrame'>\n",
      "Int64Index: 2748 entries, 0 to 999\n",
      "Data columns (total 2 columns):\n",
      " #   Column  Non-Null Count  Dtype \n",
      "---  ------  --------------  ----- \n",
      " 0   text    2748 non-null   object\n",
      " 1   review  2748 non-null   int64 \n",
      "dtypes: int64(1), object(1)\n",
      "memory usage: 64.4+ KB\n"
     ]
    }
   ],
   "source": [
    "df.info()"
   ]
  },
  {
   "cell_type": "code",
   "execution_count": 9,
   "id": "b87750f9",
   "metadata": {},
   "outputs": [
    {
     "data": {
      "text/html": [
       "<div>\n",
       "<style scoped>\n",
       "    .dataframe tbody tr th:only-of-type {\n",
       "        vertical-align: middle;\n",
       "    }\n",
       "\n",
       "    .dataframe tbody tr th {\n",
       "        vertical-align: top;\n",
       "    }\n",
       "\n",
       "    .dataframe thead th {\n",
       "        text-align: right;\n",
       "    }\n",
       "</style>\n",
       "<table border=\"1\" class=\"dataframe\">\n",
       "  <thead>\n",
       "    <tr style=\"text-align: right;\">\n",
       "      <th></th>\n",
       "      <th>text</th>\n",
       "      <th>review</th>\n",
       "    </tr>\n",
       "  </thead>\n",
       "  <tbody>\n",
       "    <tr>\n",
       "      <th>0</th>\n",
       "      <td>So there is no way for me to plug it in here i...</td>\n",
       "      <td>0</td>\n",
       "    </tr>\n",
       "    <tr>\n",
       "      <th>1</th>\n",
       "      <td>Good case, Excellent value.</td>\n",
       "      <td>1</td>\n",
       "    </tr>\n",
       "    <tr>\n",
       "      <th>2</th>\n",
       "      <td>Great for the jawbone.</td>\n",
       "      <td>1</td>\n",
       "    </tr>\n",
       "    <tr>\n",
       "      <th>3</th>\n",
       "      <td>Tied to charger for conversations lasting more...</td>\n",
       "      <td>0</td>\n",
       "    </tr>\n",
       "  </tbody>\n",
       "</table>\n",
       "</div>"
      ],
      "text/plain": [
       "                                                text  review\n",
       "0  So there is no way for me to plug it in here i...       0\n",
       "1                        Good case, Excellent value.       1\n",
       "2                             Great for the jawbone.       1\n",
       "3  Tied to charger for conversations lasting more...       0"
      ]
     },
     "execution_count": 9,
     "metadata": {},
     "output_type": "execute_result"
    }
   ],
   "source": [
    "df.head(4)"
   ]
  },
  {
   "cell_type": "markdown",
   "id": "2f36098b",
   "metadata": {},
   "source": [
    "## Data Preprocessing"
   ]
  },
  {
   "cell_type": "markdown",
   "id": "b559a9a8",
   "metadata": {},
   "source": [
    "### Function to remove Punctuations and stopwords"
   ]
  },
  {
   "cell_type": "code",
   "execution_count": 10,
   "id": "681c2c69",
   "metadata": {},
   "outputs": [],
   "source": [
    "def text_process(mess):\n",
    "    \"\"\"\n",
    "    1. Remove punctuations.\n",
    "    2. remove stop words\n",
    "    3. return clean string \"\"\"\n",
    "    nopunc=[char for char in mess if char not in string.punctuation]\n",
    "    nopunc=''.join(nopunc)\n",
    "    nopunc=[word.lower() for word in nopunc.split() if word.lower() not in stopwords.words('english')]\n",
    "    nopunc=' '.join(nopunc)\n",
    "    return nopunc"
   ]
  },
  {
   "cell_type": "markdown",
   "id": "484e7773",
   "metadata": {},
   "source": [
    "### Lemmatizer function"
   ]
  },
  {
   "cell_type": "code",
   "execution_count": 11,
   "id": "ddc5a9fa",
   "metadata": {},
   "outputs": [],
   "source": [
    "from nltk.stem import WordNetLemmatizer\n",
    "def lema(text):\n",
    "    word=''\n",
    "    wordnet_lemmatizer = WordNetLemmatizer()\n",
    "    tok = nltk.word_tokenize(text)\n",
    "    for w in tok:\n",
    "        word=word+wordnet_lemmatizer.lemmatize(w)+' '\n",
    "    return word.rstrip()"
   ]
  },
  {
   "cell_type": "markdown",
   "id": "ca06c221",
   "metadata": {},
   "source": [
    "### Applying the Functions"
   ]
  },
  {
   "cell_type": "code",
   "execution_count": 12,
   "id": "69271c80",
   "metadata": {},
   "outputs": [],
   "source": [
    "df['text']=df['text'].apply(text_process)"
   ]
  },
  {
   "cell_type": "code",
   "execution_count": 13,
   "id": "35b1247a",
   "metadata": {},
   "outputs": [],
   "source": [
    "df['text']=df['text'].apply(lema)"
   ]
  },
  {
   "cell_type": "code",
   "execution_count": 14,
   "id": "929df11f",
   "metadata": {},
   "outputs": [
    {
     "data": {
      "text/html": [
       "<div>\n",
       "<style scoped>\n",
       "    .dataframe tbody tr th:only-of-type {\n",
       "        vertical-align: middle;\n",
       "    }\n",
       "\n",
       "    .dataframe tbody tr th {\n",
       "        vertical-align: top;\n",
       "    }\n",
       "\n",
       "    .dataframe thead th {\n",
       "        text-align: right;\n",
       "    }\n",
       "</style>\n",
       "<table border=\"1\" class=\"dataframe\">\n",
       "  <thead>\n",
       "    <tr style=\"text-align: right;\">\n",
       "      <th></th>\n",
       "      <th>text</th>\n",
       "      <th>review</th>\n",
       "    </tr>\n",
       "  </thead>\n",
       "  <tbody>\n",
       "    <tr>\n",
       "      <th>0</th>\n",
       "      <td>way plug u unless go converter</td>\n",
       "      <td>0</td>\n",
       "    </tr>\n",
       "    <tr>\n",
       "      <th>1</th>\n",
       "      <td>good case excellent value</td>\n",
       "      <td>1</td>\n",
       "    </tr>\n",
       "    <tr>\n",
       "      <th>2</th>\n",
       "      <td>great jawbone</td>\n",
       "      <td>1</td>\n",
       "    </tr>\n",
       "    <tr>\n",
       "      <th>3</th>\n",
       "      <td>tied charger conversation lasting 45 minutesma...</td>\n",
       "      <td>0</td>\n",
       "    </tr>\n",
       "    <tr>\n",
       "      <th>4</th>\n",
       "      <td>mic great</td>\n",
       "      <td>1</td>\n",
       "    </tr>\n",
       "    <tr>\n",
       "      <th>...</th>\n",
       "      <td>...</td>\n",
       "      <td>...</td>\n",
       "    </tr>\n",
       "    <tr>\n",
       "      <th>995</th>\n",
       "      <td>think food flavor texture lacking</td>\n",
       "      <td>0</td>\n",
       "    </tr>\n",
       "    <tr>\n",
       "      <th>996</th>\n",
       "      <td>appetite instantly gone</td>\n",
       "      <td>0</td>\n",
       "    </tr>\n",
       "    <tr>\n",
       "      <th>997</th>\n",
       "      <td>overall impressed would go back</td>\n",
       "      <td>0</td>\n",
       "    </tr>\n",
       "    <tr>\n",
       "      <th>998</th>\n",
       "      <td>whole experience underwhelming think well go n...</td>\n",
       "      <td>0</td>\n",
       "    </tr>\n",
       "    <tr>\n",
       "      <th>999</th>\n",
       "      <td>hadnt wasted enough life poured salt wound dra...</td>\n",
       "      <td>0</td>\n",
       "    </tr>\n",
       "  </tbody>\n",
       "</table>\n",
       "<p>2748 rows × 2 columns</p>\n",
       "</div>"
      ],
      "text/plain": [
       "                                                  text  review\n",
       "0                       way plug u unless go converter       0\n",
       "1                            good case excellent value       1\n",
       "2                                        great jawbone       1\n",
       "3    tied charger conversation lasting 45 minutesma...       0\n",
       "4                                            mic great       1\n",
       "..                                                 ...     ...\n",
       "995                  think food flavor texture lacking       0\n",
       "996                            appetite instantly gone       0\n",
       "997                    overall impressed would go back       0\n",
       "998  whole experience underwhelming think well go n...       0\n",
       "999  hadnt wasted enough life poured salt wound dra...       0\n",
       "\n",
       "[2748 rows x 2 columns]"
      ]
     },
     "execution_count": 14,
     "metadata": {},
     "output_type": "execute_result"
    }
   ],
   "source": [
    "df"
   ]
  },
  {
   "cell_type": "markdown",
   "id": "f7ee3b28",
   "metadata": {},
   "source": [
    "## Train Test Split"
   ]
  },
  {
   "cell_type": "code",
   "execution_count": 15,
   "id": "56ed9e18",
   "metadata": {},
   "outputs": [],
   "source": [
    "from sklearn.model_selection import train_test_split\n",
    "msg_train, msg_test, label_train, label_test = train_test_split(df['text'], df['review'], test_size=0.2)"
   ]
  },
  {
   "cell_type": "markdown",
   "id": "80907846",
   "metadata": {},
   "source": [
    "## Creating a Pipeline\n",
    "\n",
    "Creating a pipeline here which will automate the process for me. It will pass the count vector to TfidfTransformer and then the model and the model will be trained on that data"
   ]
  },
  {
   "cell_type": "code",
   "execution_count": 16,
   "id": "0b1462dc",
   "metadata": {},
   "outputs": [],
   "source": [
    "from sklearn.feature_extraction.text import CountVectorizer\n",
    "from sklearn.feature_extraction.text import TfidfTransformer"
   ]
  },
  {
   "cell_type": "code",
   "execution_count": 17,
   "id": "022b5055",
   "metadata": {},
   "outputs": [],
   "source": [
    "from sklearn.pipeline import Pipeline\n",
    "\n",
    "pipeline = Pipeline([\n",
    "    ('bow', CountVectorizer()),  # strings to token integer counts\n",
    "    ('tfidf', TfidfTransformer()),  # integer counts to weighted TF-IDF scores\n",
    "    ('classifier', MultinomialNB()),  # train on TF-IDF vectors w/ Naive Bayes classifier\n",
    "])"
   ]
  },
  {
   "cell_type": "code",
   "execution_count": 18,
   "id": "d4c1c6c6",
   "metadata": {},
   "outputs": [
    {
     "data": {
      "text/plain": [
       "Pipeline(steps=[('bow', CountVectorizer()), ('tfidf', TfidfTransformer()),\n",
       "                ('classifier', MultinomialNB())])"
      ]
     },
     "execution_count": 18,
     "metadata": {},
     "output_type": "execute_result"
    }
   ],
   "source": [
    "pipeline.fit(msg_train,label_train)"
   ]
  },
  {
   "cell_type": "markdown",
   "id": "35d1c8f9",
   "metadata": {},
   "source": [
    "## Evaluating the model"
   ]
  },
  {
   "cell_type": "code",
   "execution_count": 19,
   "id": "64b722e6",
   "metadata": {},
   "outputs": [],
   "source": [
    "pred=pipeline.predict(msg_test)"
   ]
  },
  {
   "cell_type": "code",
   "execution_count": 20,
   "id": "0a11009f",
   "metadata": {},
   "outputs": [
    {
     "name": "stdout",
     "output_type": "stream",
     "text": [
      "[[218  72]\n",
      " [ 37 223]]\n",
      "\n",
      "\n",
      "              precision    recall  f1-score   support\n",
      "\n",
      "           0       0.85      0.75      0.80       290\n",
      "           1       0.76      0.86      0.80       260\n",
      "\n",
      "    accuracy                           0.80       550\n",
      "   macro avg       0.81      0.80      0.80       550\n",
      "weighted avg       0.81      0.80      0.80       550\n",
      "\n"
     ]
    }
   ],
   "source": [
    "from sklearn.metrics import classification_report,confusion_matrix\n",
    "print(confusion_matrix(label_test,pred))\n",
    "print('\\n')\n",
    "print(classification_report(label_test,pred))"
   ]
  }
 ],
 "metadata": {
  "kernelspec": {
   "display_name": "Python 3 (ipykernel)",
   "language": "python",
   "name": "python3"
  },
  "language_info": {
   "codemirror_mode": {
    "name": "ipython",
    "version": 3
   },
   "file_extension": ".py",
   "mimetype": "text/x-python",
   "name": "python",
   "nbconvert_exporter": "python",
   "pygments_lexer": "ipython3",
   "version": "3.9.7"
  }
 },
 "nbformat": 4,
 "nbformat_minor": 5
}
